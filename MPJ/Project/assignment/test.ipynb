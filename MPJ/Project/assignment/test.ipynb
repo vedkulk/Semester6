{
 "cells": [
  {
   "cell_type": "code",
   "execution_count": 2,
   "metadata": {},
   "outputs": [
    {
     "name": "stdout",
     "output_type": "stream",
     "text": [
      "Collecting faker\n",
      "  Downloading faker-37.1.0-py3-none-any.whl.metadata (15 kB)\n",
      "Requirement already satisfied: tzdata in /Library/Frameworks/Python.framework/Versions/3.12/lib/python3.12/site-packages (from faker) (2024.1)\n",
      "Downloading faker-37.1.0-py3-none-any.whl (1.9 MB)\n",
      "\u001b[2K   \u001b[90m━━━━━━━━━━━━━━━━━━━━━━━━━━━━━━━━━━━━━━━━\u001b[0m \u001b[32m1.9/1.9 MB\u001b[0m \u001b[31m4.6 MB/s\u001b[0m eta \u001b[36m0:00:00\u001b[0ma \u001b[36m0:00:01\u001b[0m\n",
      "\u001b[?25hInstalling collected packages: faker\n",
      "Successfully installed faker-37.1.0\n",
      "Note: you may need to restart the kernel to use updated packages.\n"
     ]
    }
   ],
   "source": [
    "pip install faker"
   ]
  },
  {
   "cell_type": "code",
   "execution_count": 3,
   "metadata": {},
   "outputs": [
    {
     "ename": "ModuleNotFoundError",
     "evalue": "No module named 'openpyxl'",
     "output_type": "error",
     "traceback": [
      "\u001b[0;31m---------------------------------------------------------------------------\u001b[0m",
      "\u001b[0;31mModuleNotFoundError\u001b[0m                       Traceback (most recent call last)",
      "Cell \u001b[0;32mIn[3], line 70\u001b[0m\n\u001b[1;32m     68\u001b[0m \u001b[39m# Save to Excel\u001b[39;00m\n\u001b[1;32m     69\u001b[0m file_path \u001b[39m=\u001b[39m \u001b[39m\"\u001b[39m\u001b[39m/mnt/data/employee_dummy_data_30k.xlsx\u001b[39m\u001b[39m\"\u001b[39m\n\u001b[0;32m---> 70\u001b[0m df\u001b[39m.\u001b[39;49mto_excel(file_path, index\u001b[39m=\u001b[39;49m\u001b[39mFalse\u001b[39;49;00m)\n",
      "File \u001b[0;32m/Library/Frameworks/Python.framework/Versions/3.12/lib/python3.12/site-packages/pandas/util/_decorators.py:333\u001b[0m, in \u001b[0;36mdeprecate_nonkeyword_arguments.<locals>.decorate.<locals>.wrapper\u001b[0;34m(*args, **kwargs)\u001b[0m\n\u001b[1;32m    327\u001b[0m \u001b[39mif\u001b[39;00m \u001b[39mlen\u001b[39m(args) \u001b[39m>\u001b[39m num_allow_args:\n\u001b[1;32m    328\u001b[0m     warnings\u001b[39m.\u001b[39mwarn(\n\u001b[1;32m    329\u001b[0m         msg\u001b[39m.\u001b[39mformat(arguments\u001b[39m=\u001b[39m_format_argument_list(allow_args)),\n\u001b[1;32m    330\u001b[0m         \u001b[39mFutureWarning\u001b[39;00m,\n\u001b[1;32m    331\u001b[0m         stacklevel\u001b[39m=\u001b[39mfind_stack_level(),\n\u001b[1;32m    332\u001b[0m     )\n\u001b[0;32m--> 333\u001b[0m \u001b[39mreturn\u001b[39;00m func(\u001b[39m*\u001b[39;49margs, \u001b[39m*\u001b[39;49m\u001b[39m*\u001b[39;49mkwargs)\n",
      "File \u001b[0;32m/Library/Frameworks/Python.framework/Versions/3.12/lib/python3.12/site-packages/pandas/core/generic.py:2414\u001b[0m, in \u001b[0;36mNDFrame.to_excel\u001b[0;34m(self, excel_writer, sheet_name, na_rep, float_format, columns, header, index, index_label, startrow, startcol, engine, merge_cells, inf_rep, freeze_panes, storage_options, engine_kwargs)\u001b[0m\n\u001b[1;32m   2401\u001b[0m \u001b[39mfrom\u001b[39;00m \u001b[39mpandas\u001b[39;00m\u001b[39m.\u001b[39;00m\u001b[39mio\u001b[39;00m\u001b[39m.\u001b[39;00m\u001b[39mformats\u001b[39;00m\u001b[39m.\u001b[39;00m\u001b[39mexcel\u001b[39;00m \u001b[39mimport\u001b[39;00m ExcelFormatter\n\u001b[1;32m   2403\u001b[0m formatter \u001b[39m=\u001b[39m ExcelFormatter(\n\u001b[1;32m   2404\u001b[0m     df,\n\u001b[1;32m   2405\u001b[0m     na_rep\u001b[39m=\u001b[39mna_rep,\n\u001b[0;32m   (...)\u001b[0m\n\u001b[1;32m   2412\u001b[0m     inf_rep\u001b[39m=\u001b[39minf_rep,\n\u001b[1;32m   2413\u001b[0m )\n\u001b[0;32m-> 2414\u001b[0m formatter\u001b[39m.\u001b[39;49mwrite(\n\u001b[1;32m   2415\u001b[0m     excel_writer,\n\u001b[1;32m   2416\u001b[0m     sheet_name\u001b[39m=\u001b[39;49msheet_name,\n\u001b[1;32m   2417\u001b[0m     startrow\u001b[39m=\u001b[39;49mstartrow,\n\u001b[1;32m   2418\u001b[0m     startcol\u001b[39m=\u001b[39;49mstartcol,\n\u001b[1;32m   2419\u001b[0m     freeze_panes\u001b[39m=\u001b[39;49mfreeze_panes,\n\u001b[1;32m   2420\u001b[0m     engine\u001b[39m=\u001b[39;49mengine,\n\u001b[1;32m   2421\u001b[0m     storage_options\u001b[39m=\u001b[39;49mstorage_options,\n\u001b[1;32m   2422\u001b[0m     engine_kwargs\u001b[39m=\u001b[39;49mengine_kwargs,\n\u001b[1;32m   2423\u001b[0m )\n",
      "File \u001b[0;32m/Library/Frameworks/Python.framework/Versions/3.12/lib/python3.12/site-packages/pandas/io/formats/excel.py:943\u001b[0m, in \u001b[0;36mExcelFormatter.write\u001b[0;34m(self, writer, sheet_name, startrow, startcol, freeze_panes, engine, storage_options, engine_kwargs)\u001b[0m\n\u001b[1;32m    941\u001b[0m     need_save \u001b[39m=\u001b[39m \u001b[39mFalse\u001b[39;00m\n\u001b[1;32m    942\u001b[0m \u001b[39melse\u001b[39;00m:\n\u001b[0;32m--> 943\u001b[0m     writer \u001b[39m=\u001b[39m ExcelWriter(\n\u001b[1;32m    944\u001b[0m         writer,\n\u001b[1;32m    945\u001b[0m         engine\u001b[39m=\u001b[39;49mengine,\n\u001b[1;32m    946\u001b[0m         storage_options\u001b[39m=\u001b[39;49mstorage_options,\n\u001b[1;32m    947\u001b[0m         engine_kwargs\u001b[39m=\u001b[39;49mengine_kwargs,\n\u001b[1;32m    948\u001b[0m     )\n\u001b[1;32m    949\u001b[0m     need_save \u001b[39m=\u001b[39m \u001b[39mTrue\u001b[39;00m\n\u001b[1;32m    951\u001b[0m \u001b[39mtry\u001b[39;00m:\n",
      "File \u001b[0;32m/Library/Frameworks/Python.framework/Versions/3.12/lib/python3.12/site-packages/pandas/io/excel/_openpyxl.py:57\u001b[0m, in \u001b[0;36mOpenpyxlWriter.__init__\u001b[0;34m(self, path, engine, date_format, datetime_format, mode, storage_options, if_sheet_exists, engine_kwargs, **kwargs)\u001b[0m\n\u001b[1;32m     44\u001b[0m \u001b[39mdef\u001b[39;00m \u001b[39m__init__\u001b[39m(\n\u001b[1;32m     45\u001b[0m     \u001b[39mself\u001b[39m,\n\u001b[1;32m     46\u001b[0m     path: FilePath \u001b[39m|\u001b[39m WriteExcelBuffer \u001b[39m|\u001b[39m ExcelWriter,\n\u001b[0;32m   (...)\u001b[0m\n\u001b[1;32m     55\u001b[0m ) \u001b[39m-\u001b[39m\u001b[39m>\u001b[39m \u001b[39mNone\u001b[39;00m:\n\u001b[1;32m     56\u001b[0m     \u001b[39m# Use the openpyxl module as the Excel writer.\u001b[39;00m\n\u001b[0;32m---> 57\u001b[0m     \u001b[39mfrom\u001b[39;00m \u001b[39mopenpyxl\u001b[39;00m\u001b[39m.\u001b[39;00m\u001b[39mworkbook\u001b[39;00m \u001b[39mimport\u001b[39;00m Workbook\n\u001b[1;32m     59\u001b[0m     engine_kwargs \u001b[39m=\u001b[39m combine_kwargs(engine_kwargs, kwargs)\n\u001b[1;32m     61\u001b[0m     \u001b[39msuper\u001b[39m()\u001b[39m.\u001b[39m\u001b[39m__init__\u001b[39m(\n\u001b[1;32m     62\u001b[0m         path,\n\u001b[1;32m     63\u001b[0m         mode\u001b[39m=\u001b[39mmode,\n\u001b[0;32m   (...)\u001b[0m\n\u001b[1;32m     66\u001b[0m         engine_kwargs\u001b[39m=\u001b[39mengine_kwargs,\n\u001b[1;32m     67\u001b[0m     )\n",
      "\u001b[0;31mModuleNotFoundError\u001b[0m: No module named 'openpyxl'"
     ]
    }
   ],
   "source": [
    "import pandas as pd\n",
    "import random\n",
    "from faker import Faker\n",
    "import numpy as np\n",
    "\n",
    "fake = Faker()\n",
    "num_records = 30000\n",
    "\n",
    "# Helper functions\n",
    "def random_choice(choices):\n",
    "    return random.choice(choices)\n",
    "\n",
    "def non_negative_int(min_val=0, max_val=100000):\n",
    "    return random.randint(min_val, max_val)\n",
    "\n",
    "def percent_value(min_val=0, max_val=100):\n",
    "    return round(random.uniform(min_val, max_val), 2)\n",
    "\n",
    "data = []\n",
    "\n",
    "# Predefined lists\n",
    "main_departments = ['HR', 'Finance', 'Engineering', 'Marketing', 'Sales', 'Operations']\n",
    "sub_departments = ['Recruitment', 'Payroll', 'Software', 'Digital', 'Field', 'Admin']\n",
    "prefixes = ['Mr.', 'Ms.', 'Dr.', 'Prof.']\n",
    "designations = ['Manager', 'Engineer', 'Assistant', 'Director', 'Executive']\n",
    "employee_types = ['Permanent', 'Contractual', 'Temporary']\n",
    "categories = ['A', 'B', 'C', 'D']\n",
    "pay_bands = ['PB-1', 'PB-2', 'PB-3', 'PB-4']\n",
    "\n",
    "for i in range(1, num_records + 1):\n",
    "    emp_id = f\"EMP{i:05d}\"\n",
    "    main_dept = random_choice(main_departments)\n",
    "    sub_dept = random_choice(sub_departments)\n",
    "    prefix = random_choice(prefixes)\n",
    "    full_name = fake.name()\n",
    "    designation = random_choice(designations)\n",
    "    emp_type = random_choice(employee_types)\n",
    "    category = random_choice(categories)\n",
    "    doj = fake.date_between(start_date='-30y', end_date='-1y')\n",
    "    dor = fake.date_between(start_date=doj, end_date='+30y')\n",
    "    pay_band = random_choice(pay_bands)\n",
    "    pay = non_negative_int(10000, 90000)\n",
    "    agp = non_negative_int(1000, 10000)\n",
    "    basic = pay + agp\n",
    "    da_rate = percent_value(10, 50)\n",
    "    da = int(basic * (da_rate / 100))\n",
    "    hra_rate = percent_value(5, 20)\n",
    "    hra = int(basic * (hra_rate / 100))\n",
    "    cla = non_negative_int(500, 5000)\n",
    "    ta = non_negative_int(1000, 10000)\n",
    "    special_allowance = non_negative_int(500, 10000)\n",
    "    additional_allowance = non_negative_int(500, 10000)\n",
    "    gross_salary = basic + da + hra + cla + ta + special_allowance + additional_allowance\n",
    "    year = doj.year\n",
    "\n",
    "    data.append([emp_id, main_dept, sub_dept, prefix, full_name, designation, emp_type, category,\n",
    "                 doj, dor, pay_band, pay, agp, basic, da, da_rate, hra, hra_rate, cla, ta,\n",
    "                 special_allowance, additional_allowance, gross_salary, year])\n",
    "\n",
    "# Create DataFrame\n",
    "columns = [\"Employee ID\", \"Main Department\", \"Sub Department\", \"Prefix\", \"Full Name\", \"Designation\",\n",
    "           \"Employee Type\", \"Category\", \"Date of Joining\", \"Date of Retirement\", \"Pay Band\", \"Pay\",\n",
    "           \"AGP\", \"Basic\", \"DA\", \"DA Rate\", \"HRA\", \"HRA Rate\", \"CLA\", \"TA\",\n",
    "           \"Special Allowance\", \"Additional Allowance\", \"Gross Salary\", \"Year\"]\n",
    "\n",
    "df = pd.DataFrame(data, columns=columns)\n",
    "\n",
    "# Save to Excel\n",
    "file_path = \"/mnt/data/employee_dummy_data_30k.xlsx\"\n",
    "df.to_excel(file_path, index=False)"
   ]
  },
  {
   "cell_type": "code",
   "execution_count": null,
   "metadata": {},
   "outputs": [],
   "source": []
  }
 ],
 "metadata": {
  "kernelspec": {
   "display_name": "Python 3",
   "language": "python",
   "name": "python3"
  },
  "language_info": {
   "codemirror_mode": {
    "name": "ipython",
    "version": 3
   },
   "file_extension": ".py",
   "mimetype": "text/x-python",
   "name": "python",
   "nbconvert_exporter": "python",
   "pygments_lexer": "ipython3",
   "version": "3.12.2"
  },
  "orig_nbformat": 4,
  "vscode": {
   "interpreter": {
    "hash": "f1062708a37074d70712b695aadee582e0b0b9f95f45576b5521424137d05fec"
   }
  }
 },
 "nbformat": 4,
 "nbformat_minor": 2
}
