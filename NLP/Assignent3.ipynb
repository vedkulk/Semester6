{
 "cells": [
  {
   "cell_type": "code",
   "execution_count": 7,
   "metadata": {},
   "outputs": [],
   "source": [
    "import gensim\n",
    "import pprint\n",
    "from gensim import corpora\n",
    "from gensim.models.phrases import Phrases, Phraser\n",
    "from gensim.utils import simple_preprocess\n",
    "from collections import Counter"
   ]
  },
  {
   "cell_type": "code",
   "execution_count": 8,
   "metadata": {},
   "outputs": [],
   "source": [
    "doc_list = [\n",
    "    \"Hello, how are you?\",\n",
    "    \"How do you do?\",\n",
    "    \"Hey what are you doing? Yes you what are you doing?\"\n",
    "]"
   ]
  },
  {
   "cell_type": "code",
   "execution_count": 9,
   "metadata": {},
   "outputs": [
    {
     "name": "stdout",
     "output_type": "stream",
     "text": [
      "[[(0, 1), (1, 1), (2, 1), (3, 1)], [(2, 1), (3, 1), (4, 2)], [(0, 2), (3, 3), (5, 2), (6, 1), (7, 2), (8, 1)]]\n"
     ]
    }
   ],
   "source": [
    "doc_tokenised = [simple_preprocess(doc) for doc in doc_list]\n",
    "dictionary = corpora.Dictionary()\n",
    "BoW_corpus = [dictionary.doc2bow(doc, allow_update=True)for doc in doc_tokenised]\n",
    "print(BoW_corpus)"
   ]
  },
  {
   "cell_type": "code",
   "execution_count": 10,
   "metadata": {},
   "outputs": [],
   "source": [
    "#N-gram Model banaya\n",
    "bigram = Phrases(doc_tokenised, min_count=1, threshold=2)\n",
    "bigram_phraser = Phraser(bigram)\n",
    "trigram = Phrases(bigram[doc_tokenised], threshold=2)\n",
    "trigram_phraser = Phraser(trigram)"
   ]
  },
  {
   "cell_type": "code",
   "execution_count": 11,
   "metadata": {},
   "outputs": [],
   "source": [
    "#Applying n-gram models\n",
    "bigram_texts = [bigram_phraser[doc] for doc in doc_tokenised]\n",
    "trigram_texts = [trigram_phraser[bigram_phraser[doc]] for doc in doc_tokenised]"
   ]
  },
  {
   "cell_type": "code",
   "execution_count": 12,
   "metadata": {},
   "outputs": [
    {
     "name": "stdout",
     "output_type": "stream",
     "text": [
      "\n",
      "Bigrams:\n",
      "[['hello', 'how', 'are_you'],\n",
      " ['how', 'do', 'you', 'do'],\n",
      " ['hey', 'what_are', 'you_doing', 'yes', 'you', 'what_are', 'you_doing']]\n",
      "\n",
      "Trigrams:\n",
      "[['hello', 'how', 'are_you'],\n",
      " ['how', 'do', 'you', 'do'],\n",
      " ['hey', 'what_are', 'you_doing', 'yes', 'you', 'what_are', 'you_doing']]\n"
     ]
    }
   ],
   "source": [
    "print(\"\\nBigrams:\")\n",
    "pprint.pprint(bigram_texts)\n",
    "\n",
    "print(\"\\nTrigrams:\")\n",
    "pprint.pprint(trigram_texts)"
   ]
  }
 ],
 "metadata": {
  "kernelspec": {
   "display_name": "NLP_env",
   "language": "python",
   "name": "python3"
  },
  "language_info": {
   "codemirror_mode": {
    "name": "ipython",
    "version": 3
   },
   "file_extension": ".py",
   "mimetype": "text/x-python",
   "name": "python",
   "nbconvert_exporter": "python",
   "pygments_lexer": "ipython3",
   "version": "3.12.8 | packaged by Anaconda, Inc. | (main, Dec 11 2024, 10:37:40) [Clang 14.0.6 ]"
  },
  "orig_nbformat": 4,
  "vscode": {
   "interpreter": {
    "hash": "b8924fc32bf2a6823ba9d81bbe03699cad25bd6fae6049cde4161808e975ad1e"
   }
  }
 },
 "nbformat": 4,
 "nbformat_minor": 2
}
