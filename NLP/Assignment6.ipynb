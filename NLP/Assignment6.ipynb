{
 "cells": [
  {
   "cell_type": "code",
   "execution_count": 2,
   "metadata": {},
   "outputs": [],
   "source": [
    "text = \"I recently purchased this new smartphone, and at first, I was extremely excited about it. The design is sleek, and the display is absolutely stunning. Watching videos and playing games on it feels amazing. The battery life is also impressive, lasting almost two days with moderate usage. However, after a week of usage, I started facing some issues. The phone occasionally lags, especially when switching between apps. The camera, which was advertised as excellent, does not perform well in low light. Customer support was not very helpful when I reached out about these problems. I was disappointed by their response, and it made me regret my purchase a little. That being said, the fast charging feature is a lifesaver, and I do appreciate the build quality. Overall, while the phone has some great features, I feel like it could have been much better given its price.\""
   ]
  },
  {
   "cell_type": "code",
   "execution_count": 3,
   "metadata": {},
   "outputs": [
    {
     "name": "stdout",
     "output_type": "stream",
     "text": [
      "NLTK Sentiment Analysis:\n",
      "Positive: 0.224\n",
      "Neutral: 0.675\n",
      "Negative: 0.101\n",
      "Overall Sentiment Score: 0.9693\n"
     ]
    },
    {
     "name": "stderr",
     "output_type": "stream",
     "text": [
      "[nltk_data] Downloading package vader_lexicon to\n",
      "[nltk_data]     /Users/vedkulkarni/nltk_data...\n",
      "[nltk_data]   Package vader_lexicon is already up-to-date!\n"
     ]
    }
   ],
   "source": [
    "import nltk\n",
    "from nltk.sentiment import SentimentIntensityAnalyzer\n",
    "\n",
    "# Download VADER lexicon\n",
    "nltk.download('vader_lexicon')\n",
    "\n",
    "# Initialize Sentiment Intensity Analyzer\n",
    "sia = SentimentIntensityAnalyzer()\n",
    "\n",
    "# Perform sentiment analysis\n",
    "sentiment_scores = sia.polarity_scores(text)\n",
    "\n",
    "# Print sentiment results\n",
    "print(\"NLTK Sentiment Analysis:\")\n",
    "print(f\"Positive: {sentiment_scores['pos']}\")\n",
    "print(f\"Neutral: {sentiment_scores['neu']}\")\n",
    "print(f\"Negative: {sentiment_scores['neg']}\")\n",
    "print(f\"Overall Sentiment Score: {sentiment_scores['compound']}\")  # Compound score determines polarity\n"
   ]
  },
  {
   "cell_type": "code",
   "execution_count": null,
   "metadata": {},
   "outputs": [],
   "source": [
    "import requests\n",
    "import json\n",
    "\n",
    "# IBM Watson API credentials\n",
    "API_KEY = \"YOUR_API_KEY\"\n",
    "URL = \"YOUR_URL\"\n",
    "\n",
    "# Sample text for tone analysis\n",
    "text = \"I am extremely happy with this service! It exceeded my expectations.\"\n",
    "\n",
    "# Prepare request data\n",
    "headers = {\n",
    "    \"Content-Type\": \"application/json\"\n",
    "}\n",
    "data = json.dumps({\"text\": text, \"sentences\": False})\n",
    "\n",
    "# Make API request\n",
    "response = requests.post(\n",
    "    f\"{URL}/v3/tone?version=2017-09-21\",\n",
    "    headers=headers,\n",
    "    data=data,\n",
    "    auth=(\"apikey\", API_KEY)\n",
    ")\n",
    "\n",
    "# Print API response\n",
    "if response.status_code == 200:\n",
    "    tones = response.json()\n",
    "    print(\"\\nIBM Watson Tone Analyzer:\")\n",
    "    for tone in tones['document_tone']['tones']:\n",
    "        print(f\"Tone: {tone['tone_name']}, Score: {tone['score']:.2f}\")\n",
    "else:\n",
    "    print(f\"Error: {response.status_code}, {response.text}\")\n"
   ]
  }
 ],
 "metadata": {
  "kernelspec": {
   "display_name": "NLP_env",
   "language": "python",
   "name": "python3"
  },
  "language_info": {
   "codemirror_mode": {
    "name": "ipython",
    "version": 3
   },
   "file_extension": ".py",
   "mimetype": "text/x-python",
   "name": "python",
   "nbconvert_exporter": "python",
   "pygments_lexer": "ipython3",
   "version": "3.12.8"
  },
  "orig_nbformat": 4,
  "vscode": {
   "interpreter": {
    "hash": "b8924fc32bf2a6823ba9d81bbe03699cad25bd6fae6049cde4161808e975ad1e"
   }
  }
 },
 "nbformat": 4,
 "nbformat_minor": 2
}
